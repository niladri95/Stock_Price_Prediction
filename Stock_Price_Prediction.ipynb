{
 "cells": [
  {
   "cell_type": "code",
   "execution_count": 1,
   "metadata": {},
   "outputs": [],
   "source": [
    "import numpy as np\n",
    "import pandas as pd\n",
    "import matplotlib.pyplot as plt\n",
    "from statsmodels.tsa.arima_model import ARIMA"
   ]
  },
  {
   "cell_type": "code",
   "execution_count": 2,
   "metadata": {},
   "outputs": [
    {
     "name": "stdout",
     "output_type": "stream",
     "text": [
      "<class 'pandas.core.frame.DataFrame'>\n",
      "DatetimeIndex: 20 entries, 2017-01-03 to 2017-01-31\n",
      "Data columns (total 5 columns):\n",
      "Open      20 non-null float64\n",
      "High      20 non-null float64\n",
      "Low       20 non-null float64\n",
      "Close     20 non-null float64\n",
      "Volume    20 non-null object\n",
      "dtypes: float64(4), object(1)\n",
      "memory usage: 960.0+ bytes\n"
     ]
    }
   ],
   "source": [
    "train=pd.read_csv('train.csv',index_col=0,parse_dates=True)\n",
    "test=pd.read_csv('test.csv',index_col=0,parse_dates=True)\n",
    "test.info()"
   ]
  },
  {
   "cell_type": "code",
   "execution_count": 3,
   "metadata": {},
   "outputs": [],
   "source": [
    "def str_to_float(row):\n",
    "        try:\n",
    "            row['Volume'] = float(row['Volume'].replace(',',''))\n",
    "        except:\n",
    "            row['Volume'] = row['Volume']\n",
    "        return row\n",
    "\n",
    "train = train.apply(str_to_float, axis = 1)"
   ]
  },
  {
   "cell_type": "code",
   "execution_count": 4,
   "metadata": {},
   "outputs": [],
   "source": [
    "def str_to_float(row):        \n",
    "        try:\n",
    "            row['Close'] = float(row['Close'].replace(',',''))\n",
    "        except:\n",
    "            row['Close'] = row['Close']\n",
    "        return row\n",
    "train = train.apply(str_to_float, axis = 1)"
   ]
  },
  {
   "cell_type": "code",
   "execution_count": 5,
   "metadata": {},
   "outputs": [],
   "source": [
    "def str_to_float(row):\n",
    "        try:\n",
    "            row['Volume'] = float(row['Volume'].replace(',',''))\n",
    "        except:\n",
    "            row['Volume'] = row['Volume']\n",
    "        return row\n",
    "test = test.apply(str_to_float, axis = 1)"
   ]
  },
  {
   "cell_type": "code",
   "execution_count": 6,
   "metadata": {},
   "outputs": [
    {
     "name": "stdout",
     "output_type": "stream",
     "text": [
      "<class 'pandas.core.frame.DataFrame'>\n",
      "DatetimeIndex: 1258 entries, 2012-01-03 to 2016-12-30\n",
      "Data columns (total 5 columns):\n",
      "Open      1258 non-null float64\n",
      "High      1258 non-null float64\n",
      "Low       1258 non-null float64\n",
      "Close     1258 non-null float64\n",
      "Volume    1258 non-null float64\n",
      "dtypes: float64(5)\n",
      "memory usage: 59.0 KB\n",
      "<class 'pandas.core.frame.DataFrame'>\n",
      "DatetimeIndex: 20 entries, 2017-01-03 to 2017-01-31\n",
      "Data columns (total 5 columns):\n",
      "Open      20 non-null float64\n",
      "High      20 non-null float64\n",
      "Low       20 non-null float64\n",
      "Close     20 non-null float64\n",
      "Volume    20 non-null float64\n",
      "dtypes: float64(5)\n",
      "memory usage: 960.0 bytes\n"
     ]
    }
   ],
   "source": [
    "train.info()\n",
    "test.info()"
   ]
  },
  {
   "cell_type": "code",
   "execution_count": 7,
   "metadata": {},
   "outputs": [],
   "source": [
    "train=train.asfreq(freq='D',method='pad')"
   ]
  },
  {
   "cell_type": "code",
   "execution_count": 8,
   "metadata": {},
   "outputs": [
    {
     "data": {
      "text/html": [
       "<div>\n",
       "<style scoped>\n",
       "    .dataframe tbody tr th:only-of-type {\n",
       "        vertical-align: middle;\n",
       "    }\n",
       "\n",
       "    .dataframe tbody tr th {\n",
       "        vertical-align: top;\n",
       "    }\n",
       "\n",
       "    .dataframe thead th {\n",
       "        text-align: right;\n",
       "    }\n",
       "</style>\n",
       "<table border=\"1\" class=\"dataframe\">\n",
       "  <thead>\n",
       "    <tr style=\"text-align: right;\">\n",
       "      <th></th>\n",
       "      <th>Open</th>\n",
       "      <th>High</th>\n",
       "      <th>Low</th>\n",
       "      <th>Close</th>\n",
       "      <th>Volume</th>\n",
       "    </tr>\n",
       "    <tr>\n",
       "      <th>Date</th>\n",
       "      <th></th>\n",
       "      <th></th>\n",
       "      <th></th>\n",
       "      <th></th>\n",
       "      <th></th>\n",
       "    </tr>\n",
       "  </thead>\n",
       "  <tbody>\n",
       "    <tr>\n",
       "      <th>2012-01-03</th>\n",
       "      <td>325.25</td>\n",
       "      <td>332.83</td>\n",
       "      <td>324.97</td>\n",
       "      <td>663.59</td>\n",
       "      <td>7380500.0</td>\n",
       "    </tr>\n",
       "    <tr>\n",
       "      <th>2012-01-04</th>\n",
       "      <td>331.27</td>\n",
       "      <td>333.87</td>\n",
       "      <td>329.08</td>\n",
       "      <td>666.45</td>\n",
       "      <td>5749400.0</td>\n",
       "    </tr>\n",
       "    <tr>\n",
       "      <th>2012-01-05</th>\n",
       "      <td>329.83</td>\n",
       "      <td>330.75</td>\n",
       "      <td>326.89</td>\n",
       "      <td>657.21</td>\n",
       "      <td>6590300.0</td>\n",
       "    </tr>\n",
       "    <tr>\n",
       "      <th>2012-01-06</th>\n",
       "      <td>328.34</td>\n",
       "      <td>328.77</td>\n",
       "      <td>323.68</td>\n",
       "      <td>648.24</td>\n",
       "      <td>5405900.0</td>\n",
       "    </tr>\n",
       "    <tr>\n",
       "      <th>2012-01-07</th>\n",
       "      <td>328.34</td>\n",
       "      <td>328.77</td>\n",
       "      <td>323.68</td>\n",
       "      <td>648.24</td>\n",
       "      <td>5405900.0</td>\n",
       "    </tr>\n",
       "  </tbody>\n",
       "</table>\n",
       "</div>"
      ],
      "text/plain": [
       "              Open    High     Low   Close     Volume\n",
       "Date                                                 \n",
       "2012-01-03  325.25  332.83  324.97  663.59  7380500.0\n",
       "2012-01-04  331.27  333.87  329.08  666.45  5749400.0\n",
       "2012-01-05  329.83  330.75  326.89  657.21  6590300.0\n",
       "2012-01-06  328.34  328.77  323.68  648.24  5405900.0\n",
       "2012-01-07  328.34  328.77  323.68  648.24  5405900.0"
      ]
     },
     "execution_count": 8,
     "metadata": {},
     "output_type": "execute_result"
    }
   ],
   "source": [
    "train.head()"
   ]
  },
  {
   "cell_type": "code",
   "execution_count": 9,
   "metadata": {},
   "outputs": [
    {
     "data": {
      "text/plain": [
       "[Text(0, 0.5, 'Closing Price'), Text(0.5, 0, '')]"
      ]
     },
     "execution_count": 9,
     "metadata": {},
     "output_type": "execute_result"
    },
    {
     "data": {
      "image/png": "[encoded data removed]",
      "text/plain": [
       "<Figure size 432x288 with 1 Axes>"
      ]
     },
     "metadata": {
      "needs_background": "light"
     },
     "output_type": "display_data"
    }
   ],
   "source": [
    "price=train['Close']\n",
    "ax=price.plot()\n",
    "ax.set_title('Closing Price of Google Stock')\n",
    "xlabel=''\n",
    "ylabel='Closing Price'\n",
    "ax.set(xlabel=xlabel,ylabel=ylabel)"
   ]
  },
  {
   "cell_type": "code",
   "execution_count": 10,
   "metadata": {},
   "outputs": [
    {
     "data": {
      "text/plain": [
       "Open     2015-08-24\n",
       "High     2016-02-04\n",
       "Low      2015-08-24\n",
       "Close    2014-03-27\n",
       "Volume   2013-10-21\n",
       "dtype: datetime64[ns]"
      ]
     },
     "execution_count": 10,
     "metadata": {},
     "output_type": "execute_result"
    }
   ],
   "source": [
    "train.diff().idxmin()"
   ]
  },
  {
   "cell_type": "code",
   "execution_count": 11,
   "metadata": {},
   "outputs": [
    {
     "data": {
      "text/plain": [
       "<matplotlib.axes._subplots.AxesSubplot at 0x20a2c411cc0>"
      ]
     },
     "execution_count": 11,
     "metadata": {},
     "output_type": "execute_result"
    },
    {
     "data": {
      "image/png": "[encoded data removed]",
      "text/plain": [
       "<Figure size 432x288 with 1 Axes>"
      ]
     },
     "metadata": {
      "needs_background": "light"
     },
     "output_type": "display_data"
    }
   ],
   "source": [
    "train['Open'].plot()"
   ]
  },
  {
   "cell_type": "markdown",
   "metadata": {},
   "source": [
    "## RNN"
   ]
  },
  {
   "cell_type": "code",
   "execution_count": 12,
   "metadata": {},
   "outputs": [],
   "source": [
    "from sklearn.preprocessing import MinMaxScaler\n",
    "scaler=MinMaxScaler()\n",
    "scaled_train_open=scaler.fit_transform(train[['Open']])\n",
    "scaled_test_open=scaler.transform(test[['Open']])"
   ]
  },
  {
   "cell_type": "code",
   "execution_count": 13,
   "metadata": {},
   "outputs": [],
   "source": [
    "from tensorflow.keras.preprocessing.sequence import TimeseriesGenerator\n",
    "n_input = 12\n",
    "n_features=1\n",
    "generator = TimeseriesGenerator(scaled_train_open, scaled_train_open, length=n_input, batch_size=1)"
   ]
  },
  {
   "cell_type": "code",
   "execution_count": 14,
   "metadata": {},
   "outputs": [],
   "source": [
    "from tensorflow.keras.models import Sequential\n",
    "from tensorflow.keras.layers import Dense\n",
    "from tensorflow.keras.layers import LSTM"
   ]
  },
  {
   "cell_type": "code",
   "execution_count": 15,
   "metadata": {},
   "outputs": [],
   "source": [
    "model = Sequential()\n",
    "model.add(LSTM(150, activation='relu', input_shape=(n_input, n_features)))\n",
    "model.add(Dense(1))\n",
    "model.compile(optimizer='adam', loss='mse')"
   ]
  },
  {
   "cell_type": "code",
   "execution_count": 16,
   "metadata": {},
   "outputs": [
    {
     "name": "stdout",
     "output_type": "stream",
     "text": [
      "Model: \"sequential\"\n",
      "_________________________________________________________________\n",
      "Layer (type)                 Output Shape              Param #   \n",
      "=================================================================\n",
      "lstm (LSTM)                  (None, 150)               91200     \n",
      "_________________________________________________________________\n",
      "dense (Dense)                (None, 1)                 151       \n",
      "=================================================================\n",
      "Total params: 91,351\n",
      "Trainable params: 91,351\n",
      "Non-trainable params: 0\n",
      "_________________________________________________________________\n"
     ]
    }
   ],
   "source": [
    "model.summary()"
   ]
  },
  {
   "cell_type": "code",
   "execution_count": 17,
   "metadata": {},
   "outputs": [
    {
     "name": "stdout",
     "output_type": "stream",
     "text": [
      "WARNING:tensorflow:From <ipython-input-17-f16eb7467fcd>:1: Model.fit_generator (from tensorflow.python.keras.engine.training) is deprecated and will be removed in a future version.\n",
      "Instructions for updating:\n",
      "Please use Model.fit, which supports generators.\n",
      "WARNING:tensorflow:sample_weight modes were coerced from\n",
      "  ...\n",
      "    to  \n",
      "  ['...']\n",
      "Train for 1812 steps\n",
      "Epoch 1/30\n",
      "1812/1812 [==============================] - 24s 13ms/step - loss: 0.0027\n",
      "Epoch 2/30\n",
      "1812/1812 [==============================] - 16s 9ms/step - loss: 7.2264e-04\n",
      "Epoch 3/30\n",
      "1812/1812 [==============================] - 12s 7ms/step - loss: 6.4944e-04\n",
      "Epoch 4/30\n",
      "1812/1812 [==============================] - 11s 6ms/step - loss: 4.6096e-04\n",
      "Epoch 5/30\n",
      "1812/1812 [==============================] - ETA: 0s - loss: 3.9003e-0 - 11s 6ms/step - loss: 3.8945e-04\n",
      "Epoch 6/30\n",
      "1812/1812 [==============================] - 11s 6ms/step - loss: 3.5017e-04\n",
      "Epoch 7/30\n",
      "1812/1812 [==============================] - 12s 6ms/step - loss: 3.0990e-04\n",
      "Epoch 8/30\n",
      "1812/1812 [==============================] - 12s 7ms/step - loss: 3.2918e-04\n",
      "Epoch 9/30\n",
      "1812/1812 [==============================] - 13s 7ms/step - loss: 3.1547e-04: 0s - loss: 3. - ETA: 0s - loss:\n",
      "Epoch 10/30\n",
      "1812/1812 [==============================] - 14s 8ms/step - loss: 2.6932e-04\n",
      "Epoch 11/30\n",
      "1812/1812 [==============================] - 11s 6ms/step - loss: 2.7062e-04\n",
      "Epoch 12/30\n",
      "1812/1812 [==============================] - 11s 6ms/step - loss: 2.6383e-04\n",
      "Epoch 13/30\n",
      "1812/1812 [==============================] - 11s 6ms/step - loss: 2.5263e-04\n",
      "Epoch 14/30\n",
      "1812/1812 [==============================] - 11s 6ms/step - loss: 2.5543e-04\n",
      "Epoch 15/30\n",
      "1812/1812 [==============================] - 11s 6ms/step - loss: 2.5314e-04\n",
      "Epoch 16/30\n",
      "1812/1812 [==============================] - 11s 6ms/step - loss: 2.4897e-04\n",
      "Epoch 17/30\n",
      "1812/1812 [==============================] - 11s 6ms/step - loss: 2.3676e-04\n",
      "Epoch 18/30\n",
      "1812/1812 [==============================] - 11s 6ms/step - loss: 2.6132e-04\n",
      "Epoch 19/30\n",
      "1812/1812 [==============================] - 11s 6ms/step - loss: 2.3046e-04\n",
      "Epoch 20/30\n",
      "1812/1812 [==============================] - 11s 6ms/step - loss: 2.3930e-04\n",
      "Epoch 21/30\n",
      "1812/1812 [==============================] - 11s 6ms/step - loss: 2.4626e-04\n",
      "Epoch 22/30\n",
      "1812/1812 [==============================] - 12s 7ms/step - loss: 2.4522e-04\n",
      "Epoch 23/30\n",
      "1812/1812 [==============================] - 12s 7ms/step - loss: 2.4420e-04\n",
      "Epoch 24/30\n",
      "1812/1812 [==============================] - 11s 6ms/step - loss: 2.3301e-04\n",
      "Epoch 25/30\n",
      "1812/1812 [==============================] - 11s 6ms/step - loss: 2.3520e-04\n",
      "Epoch 26/30\n",
      "1812/1812 [==============================] - 11s 6ms/step - loss: 2.3802e-04\n",
      "Epoch 27/30\n",
      "1812/1812 [==============================] - 12s 6ms/step - loss: 2.3070e-04\n",
      "Epoch 28/30\n",
      "1812/1812 [==============================] - 13s 7ms/step - loss: 2.4177e-04\n",
      "Epoch 29/30\n",
      "1812/1812 [==============================] - 14s 8ms/step - loss: 2.2037e-04\n",
      "Epoch 30/30\n",
      "1812/1812 [==============================] - 12s 6ms/step - loss: 2.2997e-04\n"
     ]
    },
    {
     "data": {
      "text/plain": [
       "<tensorflow.python.keras.callbacks.History at 0x20a33bd4f28>"
      ]
     },
     "execution_count": 17,
     "metadata": {},
     "output_type": "execute_result"
    }
   ],
   "source": [
    "model.fit_generator(generator,epochs=30)"
   ]
  },
  {
   "cell_type": "code",
   "execution_count": 18,
   "metadata": {},
   "outputs": [
    {
     "data": {
      "text/plain": [
       "[<matplotlib.lines.Line2D at 0x20a36ee2978>]"
      ]
     },
     "execution_count": 18,
     "metadata": {},
     "output_type": "execute_result"
    },
    {
     "data": {
      "image/png": "[encoded data removed]",
      "text/plain": [
       "<Figure size 432x288 with 1 Axes>"
      ]
     },
     "metadata": {
      "needs_background": "light"
     },
     "output_type": "display_data"
    }
   ],
   "source": [
    "loss_per_epoch=model.history.history['loss']\n",
    "plt.plot(range(len(loss_per_epoch)),loss_per_epoch)"
   ]
  },
  {
   "cell_type": "code",
   "execution_count": 19,
   "metadata": {},
   "outputs": [],
   "source": [
    "test_predictions = []\n",
    "\n",
    "first_eval_batch = scaled_train_open[-n_input:]\n",
    "current_batch = first_eval_batch.reshape((1, n_input, n_features))\n",
    "\n",
    "for i in range(len(test)):\n",
    "    current_pred = model.predict(current_batch)[0]\n",
    "    test_predictions.append(current_pred) \n",
    "    current_batch = np.append(current_batch[:,1:,:],[[current_pred]],axis=1)"
   ]
  },
  {
   "cell_type": "code",
   "execution_count": 20,
   "metadata": {},
   "outputs": [],
   "source": [
    "true_predictions = scaler.inverse_transform(test_predictions)\n",
    "test['Predicted Open']=true_predictions"
   ]
  },
  {
   "cell_type": "code",
   "execution_count": 21,
   "metadata": {},
   "outputs": [
    {
     "name": "stdout",
     "output_type": "stream",
     "text": [
      "RNN Mean Squared Error: 2133.420562\n",
      "RNN Root Mean Squared Error:  46.1889658\n"
     ]
    }
   ],
   "source": [
    "from sklearn.metrics import mean_squared_error\n",
    "from statsmodels.tools.eval_measures import rmse\n",
    "error1 = mean_squared_error(test['Predicted Open'], test['Open'])\n",
    "error2 = rmse(test['Predicted Open'], test['Open'])\n",
    "print(f'RNN Mean Squared Error: {error1:11.10}')\n",
    "print(f'RNN Root Mean Squared Error: {error2:11.10}')"
   ]
  },
  {
   "cell_type": "code",
   "execution_count": 22,
   "metadata": {},
   "outputs": [
    {
     "data": {
      "text/html": [
       "<div>\n",
       "<style scoped>\n",
       "    .dataframe tbody tr th:only-of-type {\n",
       "        vertical-align: middle;\n",
       "    }\n",
       "\n",
       "    .dataframe tbody tr th {\n",
       "        vertical-align: top;\n",
       "    }\n",
       "\n",
       "    .dataframe thead th {\n",
       "        text-align: right;\n",
       "    }\n",
       "</style>\n",
       "<table border=\"1\" class=\"dataframe\">\n",
       "  <thead>\n",
       "    <tr style=\"text-align: right;\">\n",
       "      <th></th>\n",
       "      <th>Open</th>\n",
       "      <th>High</th>\n",
       "      <th>Low</th>\n",
       "      <th>Close</th>\n",
       "      <th>Volume</th>\n",
       "      <th>Predicted Open</th>\n",
       "    </tr>\n",
       "    <tr>\n",
       "      <th>Date</th>\n",
       "      <th></th>\n",
       "      <th></th>\n",
       "      <th></th>\n",
       "      <th></th>\n",
       "      <th></th>\n",
       "      <th></th>\n",
       "    </tr>\n",
       "  </thead>\n",
       "  <tbody>\n",
       "    <tr>\n",
       "      <th>2017-01-03</th>\n",
       "      <td>778.81</td>\n",
       "      <td>789.63</td>\n",
       "      <td>775.80</td>\n",
       "      <td>786.14</td>\n",
       "      <td>1657300.0</td>\n",
       "      <td>781.394480</td>\n",
       "    </tr>\n",
       "    <tr>\n",
       "      <th>2017-01-04</th>\n",
       "      <td>788.36</td>\n",
       "      <td>791.34</td>\n",
       "      <td>783.16</td>\n",
       "      <td>786.90</td>\n",
       "      <td>1073000.0</td>\n",
       "      <td>779.858431</td>\n",
       "    </tr>\n",
       "    <tr>\n",
       "      <th>2017-01-05</th>\n",
       "      <td>786.08</td>\n",
       "      <td>794.48</td>\n",
       "      <td>785.02</td>\n",
       "      <td>794.02</td>\n",
       "      <td>1335200.0</td>\n",
       "      <td>778.427765</td>\n",
       "    </tr>\n",
       "    <tr>\n",
       "      <th>2017-01-06</th>\n",
       "      <td>795.26</td>\n",
       "      <td>807.90</td>\n",
       "      <td>792.20</td>\n",
       "      <td>806.15</td>\n",
       "      <td>1640200.0</td>\n",
       "      <td>776.983386</td>\n",
       "    </tr>\n",
       "    <tr>\n",
       "      <th>2017-01-09</th>\n",
       "      <td>806.40</td>\n",
       "      <td>809.97</td>\n",
       "      <td>802.83</td>\n",
       "      <td>806.65</td>\n",
       "      <td>1272400.0</td>\n",
       "      <td>775.514751</td>\n",
       "    </tr>\n",
       "  </tbody>\n",
       "</table>\n",
       "</div>"
      ],
      "text/plain": [
       "              Open    High     Low   Close     Volume  Predicted Open\n",
       "Date                                                                 \n",
       "2017-01-03  778.81  789.63  775.80  786.14  1657300.0      781.394480\n",
       "2017-01-04  788.36  791.34  783.16  786.90  1073000.0      779.858431\n",
       "2017-01-05  786.08  794.48  785.02  794.02  1335200.0      778.427765\n",
       "2017-01-06  795.26  807.90  792.20  806.15  1640200.0      776.983386\n",
       "2017-01-09  806.40  809.97  802.83  806.65  1272400.0      775.514751"
      ]
     },
     "execution_count": 22,
     "metadata": {},
     "output_type": "execute_result"
    }
   ],
   "source": [
    "test.head()"
   ]
  },
  {
   "cell_type": "code",
   "execution_count": 23,
   "metadata": {},
   "outputs": [
    {
     "data": {
      "text/plain": [
       "<matplotlib.axes._subplots.AxesSubplot at 0x20a37060b00>"
      ]
     },
     "execution_count": 23,
     "metadata": {},
     "output_type": "execute_result"
    },
    {
     "data": {
      "image/png": "[encoded data removed]",
      "text/plain": [
       "<Figure size 864x288 with 1 Axes>"
      ]
     },
     "metadata": {
      "needs_background": "light"
     },
     "output_type": "display_data"
    }
   ],
   "source": [
    "test['Predicted Open'].plot(figsize=(12,4),legend=True)\n",
    "test['Open'].plot(figsize=(12,4),legend=True)"
   ]
  },
  {
   "cell_type": "code",
   "execution_count": 24,
   "metadata": {},
   "outputs": [],
   "source": [
    "Closing_price=train['Close'].loc['2014-03-27':]\n",
    "scaled_train_close=scaler.fit_transform(pd.DataFrame(Closing_price))\n",
    "scaled_test_close=scaler.transform(test[['Close']])"
   ]
  },
  {
   "cell_type": "code",
   "execution_count": 25,
   "metadata": {},
   "outputs": [],
   "source": [
    "n_input = 12\n",
    "n_features=1\n",
    "generator = TimeseriesGenerator(scaled_train_close, scaled_train_close, length=n_input, batch_size=1)"
   ]
  },
  {
   "cell_type": "code",
   "execution_count": 26,
   "metadata": {},
   "outputs": [],
   "source": [
    "model = Sequential()\n",
    "model.add(LSTM(150, activation='relu', input_shape=(n_input, n_features)))\n",
    "model.add(Dense(1))\n",
    "model.compile(optimizer='adam', loss='mse')"
   ]
  },
  {
   "cell_type": "code",
   "execution_count": 27,
   "metadata": {},
   "outputs": [
    {
     "name": "stdout",
     "output_type": "stream",
     "text": [
      "WARNING:tensorflow:sample_weight modes were coerced from\n",
      "  ...\n",
      "    to  \n",
      "  ['...']\n",
      "Train for 998 steps\n",
      "Epoch 1/30\n",
      "998/998 [==============================] - 17s 17ms/step - loss: 0.0070\n",
      "Epoch 2/30\n",
      "998/998 [==============================] - 9s 9ms/step - loss: 0.0021\n",
      "Epoch 3/30\n",
      "998/998 [==============================] - 8s 8ms/step - loss: 0.0018\n",
      "Epoch 4/30\n",
      "998/998 [==============================] - 6s 6ms/step - loss: 0.0013\n",
      "Epoch 5/30\n",
      "998/998 [==============================] - 6s 6ms/step - loss: 0.0012\n",
      "Epoch 6/30\n",
      "998/998 [==============================] - 6s 6ms/step - loss: 0.0010\n",
      "Epoch 7/30\n",
      "998/998 [==============================] - 6s 6ms/step - loss: 9.6862e-04\n",
      "Epoch 8/30\n",
      "998/998 [==============================] - 6s 6ms/step - loss: 9.0073e-04\n",
      "Epoch 9/30\n",
      "998/998 [==============================] - 6s 6ms/step - loss: 9.2160e-04\n",
      "Epoch 10/30\n",
      "998/998 [==============================] - 6s 6ms/step - loss: 8.1838e-04\n",
      "Epoch 11/30\n",
      "998/998 [==============================] - 6s 6ms/step - loss: 8.4880e-04\n",
      "Epoch 12/30\n",
      "998/998 [==============================] - 6s 6ms/step - loss: 8.1605e-04\n",
      "Epoch 13/30\n",
      "998/998 [==============================] - 6s 6ms/step - loss: 8.8565e-04\n",
      "Epoch 14/30\n",
      "998/998 [==============================] - 6s 6ms/step - loss: 8.1362e-04\n",
      "Epoch 15/30\n",
      "998/998 [==============================] - 6s 6ms/step - loss: 7.6968e-04\n",
      "Epoch 16/30\n",
      "998/998 [==============================] - 6s 6ms/step - loss: 7.7528e-04\n",
      "Epoch 17/30\n",
      "998/998 [==============================] - 6s 6ms/step - loss: 7.5712e-04\n",
      "Epoch 18/30\n",
      "998/998 [==============================] - 7s 7ms/step - loss: 7.4342e-04\n",
      "Epoch 19/30\n",
      "998/998 [==============================] - 7s 7ms/step - loss: 7.8215e-04\n",
      "Epoch 20/30\n",
      "998/998 [==============================] - 6s 6ms/step - loss: 7.3794e-04\n",
      "Epoch 21/30\n",
      "998/998 [==============================] - 6s 6ms/step - loss: 7.5548e-04\n",
      "Epoch 22/30\n",
      "998/998 [==============================] - 6s 6ms/step - loss: 7.3575e-04\n",
      "Epoch 23/30\n",
      "998/998 [==============================] - 6s 6ms/step - loss: 7.3033e-04\n",
      "Epoch 24/30\n",
      "998/998 [==============================] - 6s 6ms/step - loss: 7.4588e-04\n",
      "Epoch 25/30\n",
      "998/998 [==============================] - 6s 6ms/step - loss: 7.2854e-04\n",
      "Epoch 26/30\n",
      "998/998 [==============================] - 6s 6ms/step - loss: 7.2855e-04\n",
      "Epoch 27/30\n",
      "998/998 [==============================] - 6s 6ms/step - loss: 7.2378e-04\n",
      "Epoch 28/30\n",
      "998/998 [==============================] - 6s 6ms/step - loss: 7.1115e-04\n",
      "Epoch 29/30\n",
      "998/998 [==============================] - 6s 6ms/step - loss: 7.2053e-04\n",
      "Epoch 30/30\n",
      "998/998 [==============================] - 6s 6ms/step - loss: 7.1533e-04\n"
     ]
    },
    {
     "data": {
      "text/plain": [
       "<tensorflow.python.keras.callbacks.History at 0x20a3714d438>"
      ]
     },
     "execution_count": 27,
     "metadata": {},
     "output_type": "execute_result"
    }
   ],
   "source": [
    "model.fit_generator(generator,epochs=30)"
   ]
  },
  {
   "cell_type": "code",
   "execution_count": 28,
   "metadata": {},
   "outputs": [
    {
     "data": {
      "text/plain": [
       "[<matplotlib.lines.Line2D at 0x20a3838d5f8>]"
      ]
     },
     "execution_count": 28,
     "metadata": {},
     "output_type": "execute_result"
    },
    {
     "data": {
      "image/png": "[encoded data removed]",
      "text/plain": [
       "<Figure size 432x288 with 1 Axes>"
      ]
     },
     "metadata": {
      "needs_background": "light"
     },
     "output_type": "display_data"
    }
   ],
   "source": [
    "loss_per_epoch=model.history.history['loss']\n",
    "plt.plot(range(len(loss_per_epoch)),loss_per_epoch)"
   ]
  },
  {
   "cell_type": "code",
   "execution_count": 29,
   "metadata": {},
   "outputs": [],
   "source": [
    "test_predictions = []\n",
    "\n",
    "first_eval_batch = scaled_train_open[-n_input:]\n",
    "current_batch = first_eval_batch.reshape((1, n_input, n_features))\n",
    "\n",
    "for i in range(len(test)):\n",
    "    current_pred = model.predict(current_batch)[0]\n",
    "    test_predictions.append(current_pred) \n",
    "    current_batch = np.append(current_batch[:,1:,:],[[current_pred]],axis=1)"
   ]
  },
  {
   "cell_type": "code",
   "execution_count": 30,
   "metadata": {},
   "outputs": [],
   "source": [
    "true_predictions = scaler.inverse_transform(test_predictions)\n",
    "test['Predicted Close']=true_predictions"
   ]
  },
  {
   "cell_type": "code",
   "execution_count": 31,
   "metadata": {},
   "outputs": [
    {
     "name": "stdout",
     "output_type": "stream",
     "text": [
      "RNN MSE Error: 314.4725568\n",
      "RNN RMSE Error:  17.7333741\n"
     ]
    }
   ],
   "source": [
    "error1 = mean_squared_error(test['Predicted Close'], test['Close'])\n",
    "error2 = rmse(test['Predicted Close'], test['Close'])\n",
    "print(f'RNN MSE Error: {error1:11.10}')\n",
    "print(f'RNN RMSE Error: {error2:11.10}')"
   ]
  },
  {
   "cell_type": "code",
   "execution_count": 32,
   "metadata": {},
   "outputs": [
    {
     "data": {
      "text/plain": [
       "<matplotlib.axes._subplots.AxesSubplot at 0x20a3845a080>"
      ]
     },
     "execution_count": 32,
     "metadata": {},
     "output_type": "execute_result"
    },
    {
     "data": {
      "image/png": "[encoded data removed]",
      "text/plain": [
       "<Figure size 864x288 with 1 Axes>"
      ]
     },
     "metadata": {
      "needs_background": "light"
     },
     "output_type": "display_data"
    }
   ],
   "source": [
    "test['Predicted Close'].plot(figsize=(12,4),legend=True)\n",
    "test['Close'].plot(figsize=(12,4),legend=True)"
   ]
  }
 ],
 "metadata": {
  "kernelspec": {
   "display_name": "Python 3",
   "language": "python",
   "name": "python3"
  },
  "language_info": {
   "codemirror_mode": {
    "name": "ipython",
    "version": 3
   },
   "file_extension": ".py",
   "mimetype": "text/x-python",
   "name": "python",
   "nbconvert_exporter": "python",
   "pygments_lexer": "ipython3",
   "version": "3.7.3"
  }
 },
 "nbformat": 4,
 "nbformat_minor": 2
}
